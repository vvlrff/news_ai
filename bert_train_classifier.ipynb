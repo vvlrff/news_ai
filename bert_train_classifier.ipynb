{
  "cells": [
    {
      "cell_type": "markdown",
      "metadata": {
        "id": "kvkgktk9EUut"
      },
      "source": [
        "Подбираем данные и модели из нашего гита (ветка 4u6urek)"
      ]
    },
    {
      "cell_type": "code",
      "execution_count": null,
      "metadata": {
        "colab": {
          "base_uri": "https://localhost:8080/"
        },
        "id": "pbiccyZg6-kE",
        "outputId": "f6e61373-1603-4c1c-97a8-dab864c7915d"
      },
      "outputs": [],
      "source": [
        "!wget https://raw.githubusercontent.com/vvlrff/news_ai/main/NLP_FORCE/test.csv\n",
        "!wget https://raw.githubusercontent.com/vvlrff/news_ai/main/NLP_FORCE/valid.csv\n",
        "!wget https://raw.githubusercontent.com/vvlrff/news_ai/main/NLP_FORCE/train.csv\n",
        "!wget https://raw.githubusercontent.com/vvlrff/news_ai/main/NLP_FORCE/bert_train_classifier.py\n",
        "!wget https://raw.githubusercontent.com/vvlrff/news_ai/main/NLP_FORCE/bert_dataset.py\n",
        "!wget https://raw.githubusercontent.com/vvlrff/news_ai/main/NLP_FORCE/requirements.txt"
      ]
    },
    {
      "cell_type": "markdown",
      "metadata": {
        "id": "JasJclP8E3qG"
      },
      "source": [
        "Устанавливаем необходимые зависимости в колаб"
      ]
    },
    {
      "cell_type": "code",
      "execution_count": null,
      "metadata": {
        "id": "ASlmsIsJE4L2"
      },
      "outputs": [],
      "source": [
        "!pip install -r /content/requirements.txt"
      ]
    },
    {
      "cell_type": "markdown",
      "metadata": {},
      "source": [
        "Открываем данные"
      ]
    },
    {
      "cell_type": "code",
      "execution_count": 8,
      "metadata": {
        "id": "-tsq1G0m7sdr"
      },
      "outputs": [],
      "source": [
        "import pandas as pd\n",
        "train_data = pd.read_csv('/content/train.csv', encoding='utf-8', delimiter='\\t')\n",
        "valid_data = pd.read_csv('/content/valid.csv', encoding='utf-8', delimiter='\\t')\n",
        "test_data = pd.read_csv('/content/test.csv', encoding='utf-8', delimiter='\\t')"
      ]
    },
    {
      "cell_type": "markdown",
      "metadata": {},
      "source": [
        "Смотрим, что все нормально с данными (данные разделяли 80/10/10)"
      ]
    },
    {
      "cell_type": "code",
      "execution_count": 10,
      "metadata": {
        "colab": {
          "base_uri": "https://localhost:8080/"
        },
        "id": "3C1twP0xom95",
        "outputId": "d65e17de-957e-41a7-9e84-2fc3ef7b96c0"
      },
      "outputs": [
        {
          "data": {
            "text/plain": [
              "(7240, 2)"
            ]
          },
          "execution_count": 10,
          "metadata": {},
          "output_type": "execute_result"
        }
      ],
      "source": [
        "print(train_data.shape)\n",
        "print(valid_data.shape)\n",
        "print(test_data.shape)"
      ]
    },
    {
      "cell_type": "markdown",
      "metadata": {},
      "source": [
        "Подбираем все необходимое из скачанных с нашего гита файлов"
      ]
    },
    {
      "cell_type": "code",
      "execution_count": 14,
      "metadata": {
        "id": "jSiGixRy-h2c"
      },
      "outputs": [],
      "source": [
        "from bert_dataset import CustomDataset\n",
        "from bert_train_classifier import BertTrainClassifier"
      ]
    },
    {
      "cell_type": "markdown",
      "metadata": {
        "id": "xJtu_4PKFAxU"
      },
      "source": [
        "Создаем экземпляр класса классификатора на BERTе (маленьком, иначе не хватает мощностей)"
      ]
    },
    {
      "cell_type": "code",
      "execution_count": null,
      "metadata": {
        "colab": {
          "base_uri": "https://localhost:8080/"
        },
        "id": "kFHabt8p_IY7",
        "outputId": "e710ee0c-8be7-452e-8cd6-ccdc86577d55"
      },
      "outputs": [],
      "source": [
        "classifier = BertTrainClassifier(\n",
        "        model_path='cointegrated/rubert-tiny',\n",
        "        tokenizer_path='cointegrated/rubert-tiny',\n",
        "        n_classes=28,\n",
        "        epochs=20,\n",
        "        model_save_path='/content/RuBERT_NaturaLP.pt'\n",
        ")"
      ]
    },
    {
      "cell_type": "markdown",
      "metadata": {
        "id": "5dc-F_9vFGb1"
      },
      "source": [
        "Готовимся к обучению классификатора"
      ]
    },
    {
      "cell_type": "code",
      "execution_count": null,
      "metadata": {
        "colab": {
          "base_uri": "https://localhost:8080/"
        },
        "id": "KoB7lDv_8AWe",
        "outputId": "7be32c3f-41fe-4756-a9e4-6c6a5a1d46e5"
      },
      "outputs": [],
      "source": [
        "classifier.preparation(\n",
        "        X_train=list(train_data['text']),\n",
        "        y_train=list(train_data['label']),\n",
        "        X_valid=list(valid_data['text']),\n",
        "        y_valid=list(valid_data['label'])\n",
        "    )"
      ]
    },
    {
      "cell_type": "markdown",
      "metadata": {
        "id": "eUVTfpC5FPsr"
      },
      "source": [
        "Учиться, учиться, и еще раз учиться..."
      ]
    },
    {
      "cell_type": "code",
      "execution_count": null,
      "metadata": {
        "colab": {
          "base_uri": "https://localhost:8080/"
        },
        "id": "Pj_RQTCB9dNJ",
        "outputId": "9e5d906e-288c-49b5-9df3-ae2b2adea5b7"
      },
      "outputs": [
        {
          "name": "stdout",
          "output_type": "stream",
          "text": [
            "Epoch 1/10\n"
          ]
        }
      ],
      "source": [
        "classifier.train()"
      ]
    },
    {
      "cell_type": "markdown",
      "metadata": {
        "id": "yPqZPcTmFTSd"
      },
      "source": [
        "Проверяемся"
      ]
    },
    {
      "cell_type": "code",
      "execution_count": null,
      "metadata": {
        "id": "B1jAxkTkBEMv"
      },
      "outputs": [],
      "source": [
        "texts = list(test_data['text'])\n",
        "labels = list(test_data['label'])\n",
        "\n",
        "predictions = [classifier.predict(t) for t in texts]"
      ]
    },
    {
      "cell_type": "code",
      "execution_count": null,
      "metadata": {
        "id": "xhJosdy6Bn0o"
      },
      "outputs": [],
      "source": [
        "from sklearn.metrics import precision_recall_fscore_support\n",
        "\n",
        "precision, recall, f1score = precision_recall_fscore_support(labels, predictions,average='macro')[:3]\n",
        "\n",
        "print(f'precision: {precision}, recall: {recall}, f1score: {f1score}')"
      ]
    },
    {
      "cell_type": "code",
      "execution_count": null,
      "metadata": {
        "colab": {
          "base_uri": "https://localhost:8080/"
        },
        "id": "06M_ZAesW7Pv",
        "outputId": "a03963e4-1dd8-4610-8f00-33a7107af2eb"
      },
      "outputs": [],
      "source": [
        "print(classifier.predict('ВИДЕО: новичок «Пари НН» пяткой (!) сравнял счет на 88-й минуте в дебютном (!!) матче, выйдя за 6 минут (!!!) до этого'))\n",
        "print(classifier.predict('Александр Головин забил мяч за «Монако» во втором матче подряд'))\n",
        "print(classifier.predict('«Tesla заново изобретает автомобилестроение». Компания хочет создавать почти всю нижнюю часть авто в виде одной детали'))\n",
        "print(classifier.predict('Первая в мире GeForce RTX 4070, к которой не нужно подключать никаких кабелей питания. Представлена Asus GeForce RTX 4070 Gaming BTF'))\n",
        "print(classifier.predict('Как одеться в стиле old money: берем пример с «Наследников» и «Короны»'))\n",
        "print(classifier.predict('Платье, брюки, рюкзаки и самокат: что понадобится подросткам осенью'))\n",
        "print(classifier.predict('В России запустили отечественную блокчейн-платформу «Конфидент» В России запустили полностью отечественную блокчейн-платформу «Конфидент»Новая разработка представляет собой готовую инфраструктуру для информационных блокчейн-систем — от слоя для работы нод сети до уровня приложений, где выполняются автоматизированные бизнес-процессы'))\n",
        "print(classifier.predict('Швейцария обогнала США по уровню принятия криптовалютm. Лидирующую позицию в рейтинге стран по готовности к внедрению цифровых активов второй год подряд занимает Гонконг'))\n",
        "print(classifier.predict('Новости шоу-бизнеса. Павел Прилучный устроил разборку в центре Москвы, на шоу \"Ледниковый период\" снова замены и другие'))\n",
        "print(classifier.predict('Звезда турецкого шоу-бизнеса Демет Оздемир вновь оказалась в центре скандала. Недавно появились сообщения о том, что актриса приобрела дом в Афинах и обрела вторую половинку в лице греческого диджея Серджио.'))"
      ]
    },
    {
      "cell_type": "code",
      "execution_count": null,
      "metadata": {},
      "outputs": [],
      "source": [
        "print(classifier.predict('Первая ночная неконференция от Слёрма «IT-голики» — для всех, кто в айти'))\n",
        "print(classifier.predict('Презентация Apple, Google врывается в чужой суд, Xiaomi и Huawei договариваются о сотрудничестве: дайджест недели'))\n",
        "print(classifier.predict('«Спартак» при необходимости поможет Промесу в получении паспорта РФ'))\n",
        "print(classifier.predict('Гол Бабича на 91‑й минуте принес «Спартаку» победу над «Сочи» в матче РПЛ'))\n",
        "print(classifier.predict('Глава СНБО Данилов перечислил меры помощи Украины для партнеров'))\n",
        "print(classifier.predict('Польша проведет учения с использованием новых танков K2 у границы с Россией'))\n",
        "print(classifier.predict('Новости шоу-бизнеса. Оправдания Галкина, Меладзе и Лорак не дают вернуться и другие'))"
      ]
    }
  ],
  "metadata": {
    "accelerator": "GPU",
    "colab": {
      "gpuType": "T4",
      "provenance": []
    },
    "kernelspec": {
      "display_name": "Python 3",
      "name": "python3"
    },
    "language_info": {
      "codemirror_mode": {
        "name": "ipython",
        "version": 3
      },
      "file_extension": ".py",
      "mimetype": "text/x-python",
      "name": "python",
      "nbconvert_exporter": "python",
      "pygments_lexer": "ipython3",
      "version": "3.10.10"
    }
  },
  "nbformat": 4,
  "nbformat_minor": 0
}
